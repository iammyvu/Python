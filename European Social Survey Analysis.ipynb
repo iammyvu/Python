{
 "cells": [
  {
   "cell_type": "markdown",
   "metadata": {},
   "source": [
    "Using selected questions from the 2012 and 2014 editions of the [European Social Survey](http://www.europeansocialsurvey.org/data/round-index.html), address the following questions.\n",
    "\n",
    "The codebook can be found [here](https://thinkful-ed.github.io/data-201-resources/ESS_practice_data/ESS_codebook.html), with information about the variable coding and content.\n",
    "\n",
    "In this dataset, the same participants answered questions in 2012 and again 2014.\n",
    "\n",
    "1. Did people become less trusting from 2012 to 2014? Compute results for each country in the sample.\n",
    "\n",
    "2. Did people become happier from 2012 to 2014? Compute results for each country in the sample.\n",
    "\n",
    "3. Who reported watching more TV in 2012, men or women?\n",
    "\n",
    "4. Who was more likely to believe people were fair in 2012, people living with a partner or people living alone?\n",
    "\n",
    "5. Pick three or four of the countries in the sample and compare how often people met socially in 2014. Are there differences, and if so, which countries stand out?\n",
    "\n",
    "6. Pick three or four of the countries in the sample and compare how often people took part in social activities, relative to others their age, in 2014. Are there differences, and if so, which countries stand out?"
   ]
  },
  {
   "cell_type": "code",
   "execution_count": 1,
   "metadata": {},
   "outputs": [],
   "source": [
    "import pandas as pd\n",
    "import numpy as np\n",
    "import math\n",
    "\n",
    "import datetime\n",
    "import matplotlib.pyplot as plt\n",
    "import seaborn as sns\n",
    "%matplotlib inline\n",
    "sns.set()"
   ]
  },
  {
   "cell_type": "code",
   "execution_count": 2,
   "metadata": {},
   "outputs": [
    {
     "data": {
      "text/html": [
       "<div>\n",
       "<style scoped>\n",
       "    .dataframe tbody tr th:only-of-type {\n",
       "        vertical-align: middle;\n",
       "    }\n",
       "\n",
       "    .dataframe tbody tr th {\n",
       "        vertical-align: top;\n",
       "    }\n",
       "\n",
       "    .dataframe thead th {\n",
       "        text-align: right;\n",
       "    }\n",
       "</style>\n",
       "<table border=\"1\" class=\"dataframe\">\n",
       "  <thead>\n",
       "    <tr style=\"text-align: right;\">\n",
       "      <th></th>\n",
       "      <th>cntry</th>\n",
       "      <th>idno</th>\n",
       "      <th>year</th>\n",
       "      <th>tvtot</th>\n",
       "      <th>ppltrst</th>\n",
       "      <th>pplfair</th>\n",
       "      <th>pplhlp</th>\n",
       "      <th>happy</th>\n",
       "      <th>sclmeet</th>\n",
       "      <th>sclact</th>\n",
       "      <th>gndr</th>\n",
       "      <th>agea</th>\n",
       "      <th>partner</th>\n",
       "    </tr>\n",
       "  </thead>\n",
       "  <tbody>\n",
       "    <tr>\n",
       "      <th>0</th>\n",
       "      <td>CH</td>\n",
       "      <td>5.0</td>\n",
       "      <td>6</td>\n",
       "      <td>3.0</td>\n",
       "      <td>3.0</td>\n",
       "      <td>10.0</td>\n",
       "      <td>5.0</td>\n",
       "      <td>8.0</td>\n",
       "      <td>5.0</td>\n",
       "      <td>4.0</td>\n",
       "      <td>2.0</td>\n",
       "      <td>60.0</td>\n",
       "      <td>1.0</td>\n",
       "    </tr>\n",
       "    <tr>\n",
       "      <th>1</th>\n",
       "      <td>CH</td>\n",
       "      <td>25.0</td>\n",
       "      <td>6</td>\n",
       "      <td>6.0</td>\n",
       "      <td>5.0</td>\n",
       "      <td>7.0</td>\n",
       "      <td>5.0</td>\n",
       "      <td>9.0</td>\n",
       "      <td>3.0</td>\n",
       "      <td>2.0</td>\n",
       "      <td>2.0</td>\n",
       "      <td>59.0</td>\n",
       "      <td>1.0</td>\n",
       "    </tr>\n",
       "    <tr>\n",
       "      <th>2</th>\n",
       "      <td>CH</td>\n",
       "      <td>26.0</td>\n",
       "      <td>6</td>\n",
       "      <td>1.0</td>\n",
       "      <td>8.0</td>\n",
       "      <td>8.0</td>\n",
       "      <td>8.0</td>\n",
       "      <td>7.0</td>\n",
       "      <td>6.0</td>\n",
       "      <td>3.0</td>\n",
       "      <td>1.0</td>\n",
       "      <td>24.0</td>\n",
       "      <td>2.0</td>\n",
       "    </tr>\n",
       "    <tr>\n",
       "      <th>3</th>\n",
       "      <td>CH</td>\n",
       "      <td>28.0</td>\n",
       "      <td>6</td>\n",
       "      <td>4.0</td>\n",
       "      <td>6.0</td>\n",
       "      <td>6.0</td>\n",
       "      <td>7.0</td>\n",
       "      <td>10.0</td>\n",
       "      <td>6.0</td>\n",
       "      <td>2.0</td>\n",
       "      <td>2.0</td>\n",
       "      <td>64.0</td>\n",
       "      <td>1.0</td>\n",
       "    </tr>\n",
       "    <tr>\n",
       "      <th>4</th>\n",
       "      <td>CH</td>\n",
       "      <td>29.0</td>\n",
       "      <td>6</td>\n",
       "      <td>5.0</td>\n",
       "      <td>6.0</td>\n",
       "      <td>7.0</td>\n",
       "      <td>5.0</td>\n",
       "      <td>8.0</td>\n",
       "      <td>7.0</td>\n",
       "      <td>2.0</td>\n",
       "      <td>2.0</td>\n",
       "      <td>55.0</td>\n",
       "      <td>1.0</td>\n",
       "    </tr>\n",
       "  </tbody>\n",
       "</table>\n",
       "</div>"
      ],
      "text/plain": [
       "  cntry  idno  year  tvtot  ppltrst  pplfair  pplhlp  happy  sclmeet  sclact  \\\n",
       "0    CH   5.0     6    3.0      3.0     10.0     5.0    8.0      5.0     4.0   \n",
       "1    CH  25.0     6    6.0      5.0      7.0     5.0    9.0      3.0     2.0   \n",
       "2    CH  26.0     6    1.0      8.0      8.0     8.0    7.0      6.0     3.0   \n",
       "3    CH  28.0     6    4.0      6.0      6.0     7.0   10.0      6.0     2.0   \n",
       "4    CH  29.0     6    5.0      6.0      7.0     5.0    8.0      7.0     2.0   \n",
       "\n",
       "   gndr  agea  partner  \n",
       "0   2.0  60.0      1.0  \n",
       "1   2.0  59.0      1.0  \n",
       "2   1.0  24.0      2.0  \n",
       "3   2.0  64.0      1.0  \n",
       "4   2.0  55.0      1.0  "
      ]
     },
     "execution_count": 2,
     "metadata": {},
     "output_type": "execute_result"
    }
   ],
   "source": [
    "ess = pd.read_csv('ESSdata_Thinkful.csv')\n",
    "ess.head()"
   ]
  },
  {
   "cell_type": "code",
   "execution_count": 3,
   "metadata": {},
   "outputs": [
    {
     "data": {
      "text/plain": [
       "cntry       object\n",
       "idno       float64\n",
       "year         int64\n",
       "tvtot      float64\n",
       "ppltrst    float64\n",
       "pplfair    float64\n",
       "pplhlp     float64\n",
       "happy      float64\n",
       "sclmeet    float64\n",
       "sclact     float64\n",
       "gndr       float64\n",
       "agea       float64\n",
       "partner    float64\n",
       "dtype: object"
      ]
     },
     "execution_count": 3,
     "metadata": {},
     "output_type": "execute_result"
    }
   ],
   "source": [
    "ess.dtypes"
   ]
  },
  {
   "cell_type": "code",
   "execution_count": 4,
   "metadata": {},
   "outputs": [
    {
     "data": {
      "text/plain": [
       "cntry      0.000000\n",
       "idno       0.000000\n",
       "year       0.000000\n",
       "tvtot      0.093088\n",
       "ppltrst    0.162904\n",
       "pplfair    0.453805\n",
       "pplhlp     0.290901\n",
       "happy      0.360717\n",
       "sclmeet    0.174540\n",
       "sclact     1.093786\n",
       "gndr       0.116360\n",
       "agea       2.781010\n",
       "partner    0.197812\n",
       "dtype: float64"
      ]
     },
     "execution_count": 4,
     "metadata": {},
     "output_type": "execute_result"
    }
   ],
   "source": [
    "ess.isnull().mean()*100"
   ]
  },
  {
   "cell_type": "code",
   "execution_count": 5,
   "metadata": {},
   "outputs": [
    {
     "data": {
      "text/plain": [
       "(8594, 13)"
      ]
     },
     "execution_count": 5,
     "metadata": {},
     "output_type": "execute_result"
    }
   ],
   "source": [
    "ess.shape"
   ]
  },
  {
   "cell_type": "code",
   "execution_count": 19,
   "metadata": {},
   "outputs": [
    {
     "name": "stdout",
     "output_type": "stream",
     "text": [
      "(8594, 13)\n"
     ]
    },
    {
     "data": {
      "text/plain": [
       "cntry      0.0\n",
       "idno       0.0\n",
       "year       0.0\n",
       "tvtot      0.0\n",
       "ppltrst    0.0\n",
       "pplfair    0.0\n",
       "pplhlp     0.0\n",
       "happy      0.0\n",
       "sclmeet    0.0\n",
       "sclact     0.0\n",
       "gndr       0.0\n",
       "agea       0.0\n",
       "partner    0.0\n",
       "dtype: float64"
      ]
     },
     "execution_count": 19,
     "metadata": {},
     "output_type": "execute_result"
    }
   ],
   "source": [
    "# new dataframe with missing values filled in with the mean \n",
    "ess1 = ess.copy()\n",
    "for col in ess1.select_dtypes(include=np.number):\n",
    "    ess1[col] = ess1[col].fillna(ess1[col].mean())\n",
    "print(ess1.shape)\n",
    "ess1.isnull().mean()*100"
   ]
  },
  {
   "cell_type": "code",
   "execution_count": 6,
   "metadata": {},
   "outputs": [
    {
     "data": {
      "text/plain": [
       "cntry      0.0\n",
       "idno       0.0\n",
       "year       0.0\n",
       "tvtot      0.0\n",
       "ppltrst    0.0\n",
       "pplfair    0.0\n",
       "pplhlp     0.0\n",
       "happy      0.0\n",
       "sclmeet    0.0\n",
       "sclact     0.0\n",
       "gndr       0.0\n",
       "agea       0.0\n",
       "partner    0.0\n",
       "dtype: float64"
      ]
     },
     "execution_count": 6,
     "metadata": {},
     "output_type": "execute_result"
    }
   ],
   "source": [
    "# there are missing values but very small amount so can drop\n",
    "new_ess = ess.dropna()\n",
    "new_ess.isnull().mean()*100"
   ]
  },
  {
   "cell_type": "code",
   "execution_count": 7,
   "metadata": {},
   "outputs": [
    {
     "data": {
      "image/png": "[encoded data removed]",
      "text/plain": [
       "<Figure size 1080x1080 with 11 Axes>"
      ]
     },
     "metadata": {
      "needs_background": "light"
     },
     "output_type": "display_data"
    }
   ],
   "source": [
    "cols = ['tvtot', 'ppltrst', 'pplfair', 'pplhlp',\n",
    "       'happy', 'sclmeet', 'sclact', 'gndr', 'agea', 'partner', 'year']\n",
    "\n",
    "plt.figure(figsize=(15,15))\n",
    "\n",
    "for i in range(len(cols)):\n",
    "    plt.subplot(4,3,i+1)\n",
    "    plt.hist(x=cols[i], data=new_ess)\n",
    "    plt.title(cols[i])\n",
    "    \n",
    "plt.tight_layout()\n",
    "plt.show()"
   ]
  },
  {
   "cell_type": "markdown",
   "metadata": {},
   "source": [
    "## 1. Did people become less trusting from 2012 to 2014? Compute results for each country in the sample.\n",
    "\n",
    "First I need to determine whether the variable values are parametric or non-parametric by plotting histograms."
   ]
  },
  {
   "cell_type": "code",
   "execution_count": 8,
   "metadata": {},
   "outputs": [],
   "source": [
    "# Import parametric statistics\n",
    "from scipy.stats import ttest_ind, f_oneway, ttest_rel, shapiro\n",
    "# Import nonparametric statistics\n",
    "from scipy.stats import kruskal, wilcoxon\n",
    "# Import test for normality\n",
    "from statsmodels.stats.multicomp import pairwise_tukeyhsd"
   ]
  },
  {
   "cell_type": "code",
   "execution_count": 9,
   "metadata": {},
   "outputs": [
    {
     "data": {
      "text/plain": [
       "ES    2292\n",
       "SE    1726\n",
       "CH    1475\n",
       "NO    1420\n",
       "CZ    1207\n",
       "DE      27\n",
       "Name: cntry, dtype: int64"
      ]
     },
     "execution_count": 9,
     "metadata": {},
     "output_type": "execute_result"
    }
   ],
   "source": [
    "new_ess['cntry'].value_counts()"
   ]
  },
  {
   "cell_type": "code",
   "execution_count": 10,
   "metadata": {},
   "outputs": [
    {
     "name": "stdout",
     "output_type": "stream",
     "text": [
      "Trust Distribution on 2012 and 2014 for Six European Countries\n"
     ]
    },
    {
     "data": {
      "image/png": "[encoded data removed]",
      "text/plain": [
       "<Figure size 1296x432 with 12 Axes>"
      ]
     },
     "metadata": {
      "needs_background": "light"
     },
     "output_type": "display_data"
    }
   ],
   "source": [
    "# plot histogram of trust for each country by the year\n",
    "print('Trust Distribution on 2012 and 2014 for Six European Countries')\n",
    "g = sns.FacetGrid(new_ess, row='year', col='cntry', sharey=True)\n",
    "g = g.map(plt.hist, 'ppltrst')\n",
    "plt.show()"
   ]
  },
  {
   "cell_type": "markdown",
   "metadata": {},
   "source": [
    "Due to Denmark's small counts, I could barely see its trust distributions on the graphs, especially for the year 2014. Other  graphs look somewhat normally distributed. However, let's check with the Shapiro-Wilk test for normal distribution."
   ]
  },
  {
   "cell_type": "code",
   "execution_count": 11,
   "metadata": {},
   "outputs": [
    {
     "name": "stdout",
     "output_type": "stream",
     "text": [
      "Shapiro-Wilk Test for Normality\n",
      "CH 6 (0.9517108201980591, 9.511383786695374e-15)\n",
      "CH 7 (0.9547930955886841, 2.4654701498145852e-14)\n",
      "\n",
      "CZ 6 (0.9680074453353882, 3.6126571179018185e-10)\n",
      "CZ 7 (0.9715777039527893, 1.8779569010973773e-09)\n",
      "\n",
      "DE 6 (0.8929170966148376, 0.1069343090057373)\n",
      "DE 7 (0.9425466060638428, 0.4519253373146057)\n",
      "\n",
      "ES 6 (0.949491024017334, 1.6942651933374377e-19)\n",
      "ES 7 (0.9663601517677307, 1.5275811452092943e-15)\n",
      "\n",
      "NO 6 (0.9211018085479736, 8.881221102071063e-19)\n",
      "NO 7 (0.9292042255401611, 7.92943027973029e-18)\n",
      "\n",
      "SE 6 (0.9367397427558899, 1.2586250953636158e-18)\n",
      "SE 7 (0.9376322627067566, 1.3852298444033788e-18)\n",
      "\n"
     ]
    }
   ],
   "source": [
    "# testing for normality using Shapiro-Wilk test statistic\n",
    "# value close to 1 indicate the distr is similar to a normal distribution\n",
    "\n",
    "print('Shapiro-Wilk Test for Normality')\n",
    "countries = list(new_ess.cntry.unique())\n",
    "years = [6,7]\n",
    "\n",
    "for country in countries:\n",
    "    ind = new_ess[new_ess.cntry == country]\n",
    "    for year in years:\n",
    "        print(country, year, shapiro(ind[ind.year==year].ppltrst))\n",
    "    print()"
   ]
  },
  {
   "cell_type": "markdown",
   "metadata": {},
   "source": [
    "Most of the Shapiro-Wilk test rsults are fairly close to 1, indicating that the distributions are close enough to normal. \n",
    "However, Denmark p-value fails at 0.05 threshold; on top of that, given Denmark's small sample size and Shapiro-Wilk test's sensitivity to sample size, I can't trust Denmark's test result.\n",
    "\n",
    "Given that I'm comparing from the same groups of people and the distributions are non-parametric (due to Denmark), I will use the Wilcoxon signed-rank test to determine if thre are difference over the years"
   ]
  },
  {
   "cell_type": "code",
   "execution_count": 12,
   "metadata": {},
   "outputs": [
    {
     "name": "stdout",
     "output_type": "stream",
     "text": [
      "Wilcoxon Signed-Rank Test\n",
      "CH WilcoxonResult(statistic=106278.5, pvalue=0.4411286510952477)\n",
      "\n",
      "CZ WilcoxonResult(statistic=82837.0, pvalue=0.2931891426327379)\n",
      "\n",
      "DE WilcoxonResult(statistic=44.0, pvalue=0.9157134600899863)\n",
      "\n",
      "ES WilcoxonResult(statistic=243475.5, pvalue=0.005570829650439684)\n",
      "\n",
      "NO WilcoxonResult(statistic=85392.0, pvalue=0.6139175669970661)\n",
      "\n",
      "SE WilcoxonResult(statistic=130719.5, pvalue=0.028545290985536906)\n",
      "\n"
     ]
    },
    {
     "name": "stderr",
     "output_type": "stream",
     "text": [
      "C:\\Users\\vungu\\Anaconda3\\lib\\site-packages\\scipy\\stats\\morestats.py:2781: RuntimeWarning: invalid value encountered in greater\n",
      "  r_plus = np.sum((d > 0) * r, axis=0)\n",
      "C:\\Users\\vungu\\Anaconda3\\lib\\site-packages\\scipy\\stats\\morestats.py:2782: RuntimeWarning: invalid value encountered in less\n",
      "  r_minus = np.sum((d < 0) * r, axis=0)\n"
     ]
    }
   ],
   "source": [
    "# wilcoxon signed rank test for each country based on years\n",
    "print('Wilcoxon Signed-Rank Test')\n",
    "for country in countries:\n",
    "    ind = ess[ess.cntry==country]\n",
    "    print(country, wilcoxon(ind[ind.year==6].ppltrst,\n",
    "                            y=ind[ind.year==7].ppltrst))\n",
    "    print()"
   ]
  },
  {
   "cell_type": "code",
   "execution_count": 13,
   "metadata": {},
   "outputs": [
    {
     "name": "stdout",
     "output_type": "stream",
     "text": [
      "T-Test for Paired Samples\n",
      "CH Ttest_relResult(statistic=-0.6586851756725737, pvalue=0.5102943511301135)\n",
      "\n",
      "CZ Ttest_relResult(statistic=nan, pvalue=nan)\n",
      "\n",
      "ES Ttest_relResult(statistic=nan, pvalue=nan)\n",
      "\n",
      "NO Ttest_relResult(statistic=nan, pvalue=nan)\n",
      "\n",
      "SE Ttest_relResult(statistic=nan, pvalue=nan)\n",
      "\n"
     ]
    },
    {
     "name": "stderr",
     "output_type": "stream",
     "text": [
      "C:\\Users\\vungu\\Anaconda3\\lib\\site-packages\\scipy\\stats\\_distn_infrastructure.py:877: RuntimeWarning: invalid value encountered in greater\n",
      "  return (self.a < x) & (x < self.b)\n",
      "C:\\Users\\vungu\\Anaconda3\\lib\\site-packages\\scipy\\stats\\_distn_infrastructure.py:877: RuntimeWarning: invalid value encountered in less\n",
      "  return (self.a < x) & (x < self.b)\n",
      "C:\\Users\\vungu\\Anaconda3\\lib\\site-packages\\scipy\\stats\\_distn_infrastructure.py:1831: RuntimeWarning: invalid value encountered in less_equal\n",
      "  cond2 = cond0 & (x <= self.a)\n"
     ]
    }
   ],
   "source": [
    "countries1 = ['CH', 'CZ', 'ES', 'NO', 'SE']\n",
    "years = [6,7]\n",
    "# wilcoxon signed rank test for each country based on years\n",
    "print('T-Test for Paired Samples')\n",
    "for country in countries1:\n",
    "    ind = ess[ess.cntry==country]\n",
    "    print(country, ttest_rel(ind[ind.year==6].ppltrst,\n",
    "                            ind[ind.year==7].ppltrst))\n",
    "    print()"
   ]
  },
  {
   "cell_type": "code",
   "execution_count": 21,
   "metadata": {},
   "outputs": [
    {
     "name": "stdout",
     "output_type": "stream",
     "text": [
      "Wilcoxon Signed-Rank Test\n",
      "CH WilcoxonResult(statistic=106278.5, pvalue=0.4411286510952477)\n",
      "\n",
      "CZ WilcoxonResult(statistic=85685.5, pvalue=0.7184535748814715)\n",
      "\n",
      "DE WilcoxonResult(statistic=44.0, pvalue=0.9157134600899863)\n",
      "\n",
      "ES WilcoxonResult(statistic=244297.5, pvalue=0.007218917203597303)\n",
      "\n",
      "NO WilcoxonResult(statistic=85798.0, pvalue=0.6848696094352869)\n",
      "\n",
      "SE WilcoxonResult(statistic=131221.5, pvalue=0.03521571841332836)\n",
      "\n"
     ]
    }
   ],
   "source": [
    "# wilcoxon signed rank test for each country based on years\n",
    "print('Wilcoxon Signed-Rank Test')\n",
    "for country in countries:\n",
    "    ind = ess1[ess1.cntry==country]\n",
    "    print(country, wilcoxon(ind[ind.year==6].ppltrst,\n",
    "                            y=ind[ind.year==7].ppltrst))\n",
    "    print()"
   ]
  },
  {
   "cell_type": "code",
   "execution_count": 23,
   "metadata": {},
   "outputs": [
    {
     "name": "stdout",
     "output_type": "stream",
     "text": [
      "Wilcoxon Test for Denmark\n",
      "WilcoxonResult(statistic=44.0, pvalue=0.9157134600899863)\n"
     ]
    }
   ],
   "source": [
    "# wilcoxon signed rank statistics for Denmark\n",
    "DE = ess[ess.cntry=='DE']\n",
    "print('Wilcoxon Test for Denmark')\n",
    "print(wilcoxon(DE[DE.year==6].ppltrst,\n",
    "                               y = DE[DE.year==7].ppltrst))"
   ]
  },
  {
   "cell_type": "markdown",
   "metadata": {},
   "source": [
    "**Spain** and **Sweden** are the only 2 countires that meet the statistical differences in trust for both Wilcoxon and T-Test for Paired Samples with p-values less than 0.05. All other countries fail that threshold. In another words, trust had increased from 2012 to 2014 in Spain and Sweden. \n",
    "\n",
    "\n",
    "## 2. Did people become happier from 2012 to 2014? Compute results for each country in the sample.\n",
    "\n",
    "Again, I'll look at the parametric and non-parametric distribution first before running any tests."
   ]
  },
  {
   "cell_type": "code",
   "execution_count": 24,
   "metadata": {},
   "outputs": [
    {
     "name": "stdout",
     "output_type": "stream",
     "text": [
      "Happiness Distribution on 2012 and 2014 for Six European Countries\n"
     ]
    },
    {
     "data": {
      "image/png": "[encoded data removed]",
      "text/plain": [
       "<Figure size 1296x432 with 12 Axes>"
      ]
     },
     "metadata": {
      "needs_background": "light"
     },
     "output_type": "display_data"
    }
   ],
   "source": [
    "# first plot histogram of happiness\n",
    "print('Happiness Distribution on 2012 and 2014 for Six European Countries')\n",
    "g = sns.FacetGrid(new_ess, row='year', col='cntry', sharey=True)\n",
    "g = g.map(plt.hist, 'happy')\n",
    "plt.show()"
   ]
  },
  {
   "cell_type": "markdown",
   "metadata": {},
   "source": [
    "None of the graph looks normally distributed. Anyhow, Shapiro tests will be carried out to make sure:"
   ]
  },
  {
   "cell_type": "code",
   "execution_count": 26,
   "metadata": {},
   "outputs": [
    {
     "name": "stdout",
     "output_type": "stream",
     "text": [
      "Shapiro Test for Normality\n",
      "CH 6 (0.8773602843284607, 1.4611401593361174e-23)\n",
      "CH 7 (0.8950787782669067, 4.273768685964887e-22)\n",
      "\n",
      "CZ 6 (0.9462587833404541, 5.939277796787254e-14)\n",
      "CZ 7 (0.944864809513092, 3.1645106863707403e-14)\n",
      "\n",
      "DE 6 (0.9160984754562378, 0.22211012244224548)\n",
      "DE 7 (0.9213663339614868, 0.23006466031074524)\n",
      "\n",
      "ES 6 (0.9052610397338867, 3.4151276945678624e-26)\n",
      "ES 7 (0.9136462211608887, 6.898763644671094e-25)\n",
      "\n",
      "NO 6 (0.8498518466949463, 2.291937245544563e-25)\n",
      "NO 7 (0.8795286417007446, 4.680781911775775e-23)\n",
      "\n",
      "SE 6 (0.9025380611419678, 5.918160728712866e-23)\n",
      "SE 7 (0.9121034145355225, 5.600535793318595e-22)\n",
      "\n"
     ]
    }
   ],
   "source": [
    "countries = list(new_ess.cntry.unique())\n",
    "years = [6,7]\n",
    "print('Shapiro Test for Normality')\n",
    "for country in countries:\n",
    "    ind = new_ess[new_ess.cntry==country]\n",
    "    for year in years:\n",
    "        print(country, year, shapiro(ind[ind.year==year].happy))\n",
    "    print()"
   ]
  },
  {
   "cell_type": "markdown",
   "metadata": {},
   "source": [
    "The Shapiro scores are surprisingly high given how skewed the histograms look. Again, except for Denmark, all other distributions are close to normal according to the Shapiro test.\n",
    "\n",
    "I'm going to run both the Wilcoxon test and the T-Test for Paired Samples just to make sure:"
   ]
  },
  {
   "cell_type": "code",
   "execution_count": 29,
   "metadata": {},
   "outputs": [
    {
     "name": "stdout",
     "output_type": "stream",
     "text": [
      "Wilcoxon Signed-Rank Test on Original Dataset\n",
      "CH WilcoxonResult(statistic=92816.5, pvalue=0.8208688161425343)\n",
      "\n",
      "CZ WilcoxonResult(statistic=73213.0, pvalue=0.01064243454053068)\n",
      "\n",
      "DE WilcoxonResult(statistic=23.5, pvalue=0.393351316918508)\n",
      "\n",
      "ES WilcoxonResult(statistic=231958.5, pvalue=0.04923868084306013)\n",
      "\n",
      "NO WilcoxonResult(statistic=67571.5, pvalue=2.7264367804254175e-06)\n",
      "\n",
      "SE WilcoxonResult(statistic=125481.0, pvalue=0.5136403441005022)\n",
      "\n"
     ]
    }
   ],
   "source": [
    "# wilcoxon signed rank test for each country based on years\n",
    "print('Wilcoxon Signed-Rank Test on Original Dataset')\n",
    "for country in countries:\n",
    "    ind = ess[ess.cntry==country]\n",
    "    print(country, wilcoxon(ind[ind.year==6].happy,\n",
    "                            y=ind[ind.year==7].happy))\n",
    "    print()"
   ]
  },
  {
   "cell_type": "code",
   "execution_count": 30,
   "metadata": {},
   "outputs": [
    {
     "name": "stdout",
     "output_type": "stream",
     "text": [
      "Wilcoxon Signed-Rank Test on NAN-filled Dataset\n",
      "CH WilcoxonResult(statistic=93199.5, pvalue=0.8908303608327776)\n",
      "\n",
      "CZ WilcoxonResult(statistic=79039.0, pvalue=0.2756811173565926)\n",
      "\n",
      "DE WilcoxonResult(statistic=23.5, pvalue=0.393351316918508)\n",
      "\n",
      "ES WilcoxonResult(statistic=232720.5, pvalue=0.05979608639061816)\n",
      "\n",
      "NO WilcoxonResult(statistic=68932.5, pvalue=1.3328464907648905e-05)\n",
      "\n",
      "SE WilcoxonResult(statistic=126893.0, pvalue=0.6924584472351083)\n",
      "\n"
     ]
    }
   ],
   "source": [
    "# wilcoxon signed rank test for each country based on years\n",
    "print('Wilcoxon Signed-Rank Test on NAN-filled Dataset')\n",
    "for country in countries:\n",
    "    ind = ess1[ess1.cntry==country]\n",
    "    print(country, wilcoxon(ind[ind.year==6].happy,\n",
    "                            y=ind[ind.year==7].happy))\n",
    "    print()"
   ]
  },
  {
   "cell_type": "code",
   "execution_count": 32,
   "metadata": {},
   "outputs": [
    {
     "name": "stdout",
     "output_type": "stream",
     "text": [
      "T-Test for Paired Samples\n",
      "CH Ttest_relResult(statistic=-0.40611033995248197, pvalue=0.6847740698059911)\n",
      "\n",
      "CZ Ttest_relResult(statistic=-1.2188654826193317, pvalue=0.22333270273786002)\n",
      "\n",
      "ES Ttest_relResult(statistic=1.6346389988923788, pvalue=0.10238442986537889)\n",
      "\n",
      "NO Ttest_relResult(statistic=4.219500306439047, pvalue=2.7568566304770307e-05)\n",
      "\n",
      "SE Ttest_relResult(statistic=-0.5642634625369061, pvalue=0.5727143461195355)\n",
      "\n"
     ]
    }
   ],
   "source": [
    "countries1 = ['CH', 'CZ', 'ES', 'NO', 'SE']\n",
    "years = [6,7]\n",
    "# wilcoxon signed rank test for each country based on years\n",
    "print('T-Test for Paired Samples')\n",
    "for country in countries1:\n",
    "    ind = ess1[ess1.cntry==country]\n",
    "    print(country, ttest_rel(ind[ind.year==6].happy,\n",
    "                            ind[ind.year==7].happy))\n",
    "    print()"
   ]
  },
  {
   "cell_type": "markdown",
   "metadata": {},
   "source": [
    "**Spain**, **Norway**, and **Czech** meet the statistical significance thresholds for Wilcoxon test on the original dataset; however, only **Norway** meets the thresholds on Wilcoxon test on NAN-filled dataset and T-Test for Paired Samples. Norway's happiness also clearly decreased on the histograms. So at this point, I can confidently say that Norway became less happy in 2014 but am still on the fence about Spain and Czech.\n",
    "\n",
    "\n",
    "## 3. Who reported watching more TV in 2012, men or women?\n",
    "\n",
    "I'm not comparing dependent samples but independent groups to answer this question. But first, I still need to look at their distribution:"
   ]
  },
  {
   "cell_type": "code",
   "execution_count": 38,
   "metadata": {},
   "outputs": [
    {
     "data": {
      "text/plain": [
       "1.0    2154\n",
       "2.0    2143\n",
       "Name: gndr, dtype: int64"
      ]
     },
     "execution_count": 38,
     "metadata": {},
     "output_type": "execute_result"
    }
   ],
   "source": [
    "year2012 = ess[ess.year==6]\n",
    "\n",
    "year2012.gndr.value_counts()"
   ]
  },
  {
   "cell_type": "code",
   "execution_count": 35,
   "metadata": {},
   "outputs": [
    {
     "name": "stdout",
     "output_type": "stream",
     "text": [
      "TV Watching Distribution in 2012 between Men vs. Women\n"
     ]
    },
    {
     "data": {
      "image/png": "[encoded data removed]",
      "text/plain": [
       "<Figure size 432x216 with 2 Axes>"
      ]
     },
     "metadata": {
      "needs_background": "light"
     },
     "output_type": "display_data"
    },
    {
     "name": "stdout",
     "output_type": "stream",
     "text": [
      "Females (2): (0.9390434622764587, 8.488309331265169e-29)\n",
      "Males (1): (0.9434293508529663, 5.994494507539187e-28)\n"
     ]
    }
   ],
   "source": [
    "print('TV Watching Distribution in 2012 between Men vs. Women')\n",
    "g = sns.FacetGrid(year2012, col='gndr', dropna=True, sharey=True)\n",
    "g = g.map(plt.hist, 'tvtot')\n",
    "plt.show()\n",
    "\n",
    "# shapiro test\n",
    "print('Females (2):', shapiro(year2012[year2012.gndr==2].tvtot.dropna()))\n",
    "print('Males (1):', shapiro(year2012[year2012.gndr==1].tvtot.dropna()))"
   ]
  },
  {
   "cell_type": "markdown",
   "metadata": {},
   "source": [
    "Shapiro results indicate near normal distribution; however, they don't look normally distributed to me so I will apply Wilcoxon Test:"
   ]
  },
  {
   "cell_type": "code",
   "execution_count": 39,
   "metadata": {},
   "outputs": [
    {
     "name": "stdout",
     "output_type": "stream",
     "text": [
      "Wilcoxon Test for Gender Distribution Regarding TV Watching\n",
      "WilcoxonResult(statistic=782530.0, pvalue=0.5033507782372963)\n"
     ]
    }
   ],
   "source": [
    "print('Wilcoxon Test for Gender Distribution Regarding TV Watching')\n",
    "print(wilcoxon(year2012[year2012.gndr==1].tvtot.dropna()[:2140],\n",
    "               y=year2012[year2012.gndr==2].tvtot.dropna()))"
   ]
  },
  {
   "cell_type": "markdown",
   "metadata": {},
   "source": [
    "There is no statistical significance in the tv viewership between men and women in the year 2012.\n",
    "\n",
    "\n",
    "## 4. Who was more likely to believe people were fair in 2012, people living with a partner or people living alone?"
   ]
  },
  {
   "cell_type": "code",
   "execution_count": 40,
   "metadata": {},
   "outputs": [
    {
     "name": "stdout",
     "output_type": "stream",
     "text": [
      "Fairness Belief Distribution in 2012 between Single vs. Non-single People\n"
     ]
    },
    {
     "data": {
      "image/png": "[encoded data removed]",
      "text/plain": [
       "<Figure size 432x216 with 2 Axes>"
      ]
     },
     "metadata": {
      "needs_background": "light"
     },
     "output_type": "display_data"
    },
    {
     "name": "stdout",
     "output_type": "stream",
     "text": [
      "Singles (2): (0.9524076581001282, 8.881730697696138e-26)\n",
      "Non-singles (1): (0.9414215087890625, 2.4438019138182694e-28)\n"
     ]
    }
   ],
   "source": [
    "print('Fairness Belief Distribution in 2012 between Single vs. Non-single People')\n",
    "g = sns.FacetGrid(year2012, col='partner', dropna=True, sharey=True)\n",
    "g = g.map(plt.hist, 'pplfair')\n",
    "plt.show()\n",
    "\n",
    "# shapiro test\n",
    "print('Singles (2):', shapiro(year2012[year2012.gndr==2].pplfair.dropna()))\n",
    "print('Non-singles (1):', shapiro(year2012[year2012.gndr==1].pplfair.dropna()))"
   ]
  },
  {
   "cell_type": "markdown",
   "metadata": {},
   "source": [
    "The graphs look slightly left-skewed but Shapiro results indicate near normal distribution. I'll use Wilcoxon:"
   ]
  },
  {
   "cell_type": "code",
   "execution_count": 41,
   "metadata": {},
   "outputs": [
    {
     "data": {
      "text/plain": [
       "1.0    2674\n",
       "2.0    1616\n",
       "Name: partner, dtype: int64"
      ]
     },
     "execution_count": 41,
     "metadata": {},
     "output_type": "execute_result"
    }
   ],
   "source": [
    "year2012['partner'].value_counts()"
   ]
  },
  {
   "cell_type": "code",
   "execution_count": 42,
   "metadata": {},
   "outputs": [
    {
     "name": "stdout",
     "output_type": "stream",
     "text": [
      "Wilcoxon Test for Fairness Belief between Singles and Non-Single People\n",
      "WilcoxonResult(statistic=426739.0, pvalue=0.004340158276254172)\n"
     ]
    }
   ],
   "source": [
    "print('Wilcoxon Test for Fairness Belief between Singles and Non-Single People')\n",
    "print(wilcoxon(year2012[year2012.partner==1].pplfair.dropna()[:1608],\n",
    "               y=year2012[year2012.partner==2].pplfair.dropna()))"
   ]
  },
  {
   "cell_type": "markdown",
   "metadata": {},
   "source": [
    "There is a statistical significance in the difference between single people and non-single people regarding their belief in the fairness of people.\n",
    "\n",
    "\n",
    "## Question 5. Pick three or four of the countries in the sample and compare how often people met socially in 2014. Are there differences, and if so, which countries stand out?\n",
    "\n",
    "Since I am comparing between different countries, depending on the distribution, if parametric then One-way ANOVA, otherwise, Mood's median or Kruskal-Wallis test will be carried out:"
   ]
  },
  {
   "cell_type": "code",
   "execution_count": 51,
   "metadata": {},
   "outputs": [
    {
     "data": {
      "text/plain": [
       "cntry\n",
       "CH    1542\n",
       "CZ    1310\n",
       "DE      28\n",
       "ES    2422\n",
       "NO    1462\n",
       "SE    1815\n",
       "Name: sclmeet, dtype: int64"
      ]
     },
     "execution_count": 51,
     "metadata": {},
     "output_type": "execute_result"
    }
   ],
   "source": [
    "ess.groupby('cntry')['sclmeet'].count()"
   ]
  },
  {
   "cell_type": "code",
   "execution_count": 52,
   "metadata": {},
   "outputs": [],
   "source": [
    "countries = ['CH', 'CZ', 'ES', 'NO']\n",
    "social = ess[(ess.cntry.isin(countries)) & (ess.year==7)]"
   ]
  },
  {
   "cell_type": "code",
   "execution_count": 54,
   "metadata": {},
   "outputs": [
    {
     "name": "stdout",
     "output_type": "stream",
     "text": [
      "Social Meeting Distribution in 2014 for Four European Countries\n"
     ]
    },
    {
     "data": {
      "image/png": "[encoded data removed]",
      "text/plain": [
       "<Figure size 864x216 with 4 Axes>"
      ]
     },
     "metadata": {
      "needs_background": "light"
     },
     "output_type": "display_data"
    },
    {
     "name": "stdout",
     "output_type": "stream",
     "text": [
      "Shapiro Test for Normality\n",
      "CH (0.8974164724349976, 2.7436334896806913e-22)\n",
      "\n",
      "CZ (0.9451602101325989, 7.663770300607355e-15)\n",
      "\n",
      "ES (0.8880351781845093, 9.848293928138278e-29)\n",
      "\n",
      "NO (0.8881818056106567, 1.422473605641294e-22)\n",
      "\n"
     ]
    }
   ],
   "source": [
    "print('Social Meeting Distribution in 2014 for Four European Countries')\n",
    "g = sns.FacetGrid(social, col='cntry', sharey=True)\n",
    "g = g.map(plt.hist, 'sclmeet')\n",
    "plt.show()\n",
    "\n",
    "print('Shapiro Test for Normality')\n",
    "for country in countries:\n",
    "    print(country, shapiro(social[social.cntry==country].sclmeet.dropna()))\n",
    "    print()"
   ]
  },
  {
   "cell_type": "markdown",
   "metadata": {},
   "source": [
    "Shapiro results indicate they are all near normal distribution; however, only Czech looks the most normal on the histogram. \n",
    "\n",
    "I will use Kruskal-Wallis test in this case:"
   ]
  },
  {
   "cell_type": "code",
   "execution_count": 55,
   "metadata": {},
   "outputs": [
    {
     "name": "stdout",
     "output_type": "stream",
     "text": [
      "Kruskal-Wallis Test\n",
      "KruskalResult(statistic=169.44369492694958, pvalue=1.6778868334382967e-36)\n"
     ]
    }
   ],
   "source": [
    "print('Kruskal-Wallis Test')\n",
    "print(kruskal(social[social.cntry == 'CH'].sclmeet.dropna(),\n",
    "              social[social.cntry == 'CZ'].sclmeet.dropna(),\n",
    "              social[social.cntry == 'ES'].sclmeet.dropna(),\n",
    "              social[social.cntry == 'NO'].sclmeet.dropna()))"
   ]
  },
  {
   "cell_type": "markdown",
   "metadata": {},
   "source": [
    "Kruskal-Wallis indicates statistical significance in the difference of social meetings between these four countries."
   ]
  },
  {
   "cell_type": "code",
   "execution_count": 56,
   "metadata": {},
   "outputs": [
    {
     "name": "stdout",
     "output_type": "stream",
     "text": [
      "CH vs CZ: Ttest_indResult(statistic=9.675850699914886, pvalue=1.7204743885392493e-21)\n",
      "CH vs ES: Ttest_indResult(statistic=-1.5343317353073618, pvalue=0.12510774525042745)\n",
      "CH vs NO: Ttest_indResult(statistic=-2.067962986557216, pvalue=0.03881448528868391)\n",
      "ES vs CZ: Ttest_indResult(statistic=11.400026538179093, pvalue=3.7676844407353374e-29)\n",
      "NO vs CZ: Ttest_indResult(statistic=11.269186128577815, pvalue=3.0334022155191707e-28)\n",
      "ES vs NO: Ttest_indResult(statistic=-0.632916395870007, pvalue=0.5268628350318294)\n"
     ]
    }
   ],
   "source": [
    "print('CH vs CZ:', ttest_ind(social[social.cntry=='CH'].sclmeet.dropna(),\n",
    "                             social[social.cntry=='CZ'].sclmeet.dropna()))\n",
    "print('CH vs ES:', ttest_ind(social[social.cntry=='CH'].sclmeet.dropna(),\n",
    "                             social[social.cntry=='ES'].sclmeet.dropna()))\n",
    "print('CH vs NO:', ttest_ind(social[social.cntry=='CH'].sclmeet.dropna(),\n",
    "                             social[social.cntry=='NO'].sclmeet.dropna()))\n",
    "print('ES vs CZ:', ttest_ind(social[social.cntry=='ES'].sclmeet.dropna(),\n",
    "                             social[social.cntry=='CZ'].sclmeet.dropna()))\n",
    "print('NO vs CZ:', ttest_ind(social[social.cntry=='NO'].sclmeet.dropna(),\n",
    "                             social[social.cntry=='CZ'].sclmeet.dropna()))\n",
    "print('ES vs NO:', ttest_ind(social[social.cntry=='ES'].sclmeet.dropna(),\n",
    "                             social[social.cntry=='NO'].sclmeet.dropna()))"
   ]
  },
  {
   "cell_type": "markdown",
   "metadata": {},
   "source": [
    "* Spain and Norway are not significantly different\n",
    "* Switzerland is significantly different from Czech, Spain, and Norway\n",
    "* Czech is significantly different from Spain and Norway\n",
    "\n",
    "## Question 6. Pick three or four of the countries in the sample and compare how often people took part in social activities, relative to others their age, in 2014. Are there differences, and if so, which countries stand out?\n",
    "\n",
    "This is again the independent varibles problem. I will continue using the same countries in question 5."
   ]
  },
  {
   "cell_type": "code",
   "execution_count": 57,
   "metadata": {},
   "outputs": [
    {
     "name": "stdout",
     "output_type": "stream",
     "text": [
      "Social Acitivities Distribution based on Ages for Four European Countries in 2014\n"
     ]
    },
    {
     "data": {
      "image/png": "[encoded data removed]",
      "text/plain": [
       "<Figure size 864x216 with 4 Axes>"
      ]
     },
     "metadata": {
      "needs_background": "light"
     },
     "output_type": "display_data"
    },
    {
     "name": "stdout",
     "output_type": "stream",
     "text": [
      "Shapiro Test for Normality\n",
      "CH (0.8931546211242676, 1.308755961383447e-22)\n",
      "\n",
      "CZ (0.8517600893974304, 3.2631608025549396e-24)\n",
      "\n",
      "ES (0.892457902431488, 5.746904176126056e-28)\n",
      "\n",
      "NO (0.8678725957870483, 2.398206966061988e-24)\n",
      "\n"
     ]
    }
   ],
   "source": [
    "print('Social Acitivities Distribution based on Ages for Four European Countries in 2014')\n",
    "g = sns.FacetGrid(social, col='cntry', sharey=True)\n",
    "g = g.map(plt.hist, 'sclact')\n",
    "plt.show()\n",
    "\n",
    "print('Shapiro Test for Normality')\n",
    "for country in countries:\n",
    "    print(country, shapiro(social[social.cntry==country].sclact.dropna()))\n",
    "    print()"
   ]
  },
  {
   "cell_type": "markdown",
   "metadata": {},
   "source": [
    "Shapiro indicates near normal distribution and the histograms also look somewhat normally distributed so I will use the One-Way ANOVA test:"
   ]
  },
  {
   "cell_type": "code",
   "execution_count": 71,
   "metadata": {},
   "outputs": [
    {
     "name": "stdout",
     "output_type": "stream",
     "text": [
      "One-Way ANOVA\n",
      "12.296832410640762\n",
      "5.343654542552198e-08\n"
     ]
    }
   ],
   "source": [
    "import scipy.stats as stats\n",
    "\n",
    "print('One-Way ANOVA')\n",
    "F, p = stats.f_oneway(social[social.cntry == 'CH'].sclact.dropna(),\n",
    "              social[social.cntry == 'CZ'].sclact.dropna(),\n",
    "              social[social.cntry == 'ES'].sclact.dropna(),\n",
    "              social[social.cntry == 'NO'].sclact.dropna())\n",
    "\n",
    "print(F)\n",
    "print(p)"
   ]
  },
  {
   "cell_type": "markdown",
   "metadata": {},
   "source": [
    "One-Way ANOVA indicates there are differences in social activities between these four countries. Let's perform pairwise t-tests to compare each group to each other group:"
   ]
  },
  {
   "cell_type": "code",
   "execution_count": 72,
   "metadata": {},
   "outputs": [
    {
     "name": "stdout",
     "output_type": "stream",
     "text": [
      "CH vs CZ: Ttest_indResult(statistic=1.665721791943212, pvalue=0.09599050025440872)\n",
      "CH vs ES: Ttest_indResult(statistic=3.7901178679751157, pvalue=0.00015515309017284228)\n",
      "CH vs NO: Ttest_indResult(statistic=-1.7137982052307084, pvalue=0.08677322504632268)\n",
      "ES vs CZ: Ttest_indResult(statistic=-1.9231457887987455, pvalue=0.05461649785517343)\n",
      "NO vs CZ: Ttest_indResult(statistic=3.44673561169421, pvalue=0.0005844634540645623)\n",
      "ES vs NO: Ttest_indResult(statistic=-5.671149129663532, pvalue=1.6345881270312057e-08)\n"
     ]
    }
   ],
   "source": [
    "print('CH vs CZ:', ttest_ind(social[social.cntry=='CH'].sclact.dropna(),\n",
    "                             social[social.cntry=='CZ'].sclact.dropna()))\n",
    "print('CH vs ES:', ttest_ind(social[social.cntry=='CH'].sclact.dropna(),\n",
    "                             social[social.cntry=='ES'].sclact.dropna()))\n",
    "print('CH vs NO:', ttest_ind(social[social.cntry=='CH'].sclact.dropna(),\n",
    "                             social[social.cntry=='NO'].sclact.dropna()))\n",
    "print('ES vs CZ:', ttest_ind(social[social.cntry=='ES'].sclact.dropna(),\n",
    "                             social[social.cntry=='CZ'].sclact.dropna()))\n",
    "print('NO vs CZ:', ttest_ind(social[social.cntry=='NO'].sclact.dropna(),\n",
    "                             social[social.cntry=='CZ'].sclact.dropna()))\n",
    "print('ES vs NO:', ttest_ind(social[social.cntry=='ES'].sclact.dropna(),\n",
    "                             social[social.cntry=='NO'].sclact.dropna()))"
   ]
  },
  {
   "cell_type": "markdown",
   "metadata": {},
   "source": [
    "* Switzerland is not significantly different from Czech and Norway\n",
    "* Switzerland significantly different from Spain\n",
    "* Spain is not significantly different from Czech but is significantly different from Norway\n",
    "* Norway and Czech are significantly different from each other"
   ]
  },
  {
   "cell_type": "code",
   "execution_count": null,
   "metadata": {},
   "outputs": [],
   "source": []
  }
 ],
 "metadata": {
  "kernelspec": {
   "display_name": "Python 3",
   "language": "python",
   "name": "python3"
  },
  "language_info": {
   "codemirror_mode": {
    "name": "ipython",
    "version": 3
   },
   "file_extension": ".py",
   "mimetype": "text/x-python",
   "name": "python",
   "nbconvert_exporter": "python",
   "pygments_lexer": "ipython3",
   "version": "3.7.3"
  }
 },
 "nbformat": 4,
 "nbformat_minor": 2
}
